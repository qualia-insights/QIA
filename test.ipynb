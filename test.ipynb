{
 "cells": [
  {
   "cell_type": "code",
   "execution_count": 25,
   "id": "antique-supervisor",
   "metadata": {},
   "outputs": [],
   "source": [
    "import pandas as pd\n",
    "\n",
    "test_csv_file = \"/home/rovitotv/data/QIA_data/2020/202001.csv\"\n",
    "bank_data = pd.read_csv(test_csv_file, header=None, skiprows=1, names=['date', 'amount', 'description', 'not_known1', 'not_known2','type'],\n",
    "                       parse_dates=True)"
   ]
  },
  {
   "cell_type": "code",
   "execution_count": 26,
   "id": "broke-journey",
   "metadata": {},
   "outputs": [
    {
     "name": "stdout",
     "output_type": "stream",
     "text": [
      "date                                       2020/01/02\n",
      "amount                                             70\n",
      "description    Corporate ACH Hcclaimpmt Umr 264410520\n",
      "not_known1                                        NaN\n",
      "not_known2                        00019365911857239\\t\n",
      "type                                           CREDIT\n",
      "Name: 0, dtype: object\n"
     ]
    }
   ],
   "source": [
    "print(bank_data.iloc[0])"
   ]
  },
  {
   "cell_type": "code",
   "execution_count": 27,
   "id": "posted-external",
   "metadata": {},
   "outputs": [
    {
     "data": {
      "text/html": [
       "<div>\n",
       "<style scoped>\n",
       "    .dataframe tbody tr th:only-of-type {\n",
       "        vertical-align: middle;\n",
       "    }\n",
       "\n",
       "    .dataframe tbody tr th {\n",
       "        vertical-align: top;\n",
       "    }\n",
       "\n",
       "    .dataframe thead th {\n",
       "        text-align: right;\n",
       "    }\n",
       "</style>\n",
       "<table border=\"1\" class=\"dataframe\">\n",
       "  <thead>\n",
       "    <tr style=\"text-align: right;\">\n",
       "      <th></th>\n",
       "      <th>date</th>\n",
       "      <th>amount</th>\n",
       "      <th>description</th>\n",
       "      <th>not_known1</th>\n",
       "      <th>not_known2</th>\n",
       "      <th>type</th>\n",
       "    </tr>\n",
       "  </thead>\n",
       "  <tbody>\n",
       "    <tr>\n",
       "      <th>0</th>\n",
       "      <td>2020/01/02</td>\n",
       "      <td>70.00</td>\n",
       "      <td>Corporate ACH Hcclaimpmt Umr 264410520</td>\n",
       "      <td>NaN</td>\n",
       "      <td>00019365911857239\\t</td>\n",
       "      <td>CREDIT</td>\n",
       "    </tr>\n",
       "    <tr>\n",
       "      <th>1</th>\n",
       "      <td>2020/01/02</td>\n",
       "      <td>41.78</td>\n",
       "      <td>9969 Debit Card Purchase Doordash*White Castle...</td>\n",
       "      <td>NaN</td>\n",
       "      <td>43293900068109969001\\t</td>\n",
       "      <td>DEBIT</td>\n",
       "    </tr>\n",
       "    <tr>\n",
       "      <th>2</th>\n",
       "      <td>2020/01/02</td>\n",
       "      <td>205.50</td>\n",
       "      <td>9969 Debit Card Purchase Innago  513-5430759 Oh</td>\n",
       "      <td>NaN</td>\n",
       "      <td>70046900068109969002\\t</td>\n",
       "      <td>DEBIT</td>\n",
       "    </tr>\n",
       "    <tr>\n",
       "      <th>3</th>\n",
       "      <td>2020/01/02</td>\n",
       "      <td>178.65</td>\n",
       "      <td>PNC Merchant Discount   277295138998</td>\n",
       "      <td>NaN</td>\n",
       "      <td>277295138998    OHO</td>\n",
       "      <td>DEBIT</td>\n",
       "    </tr>\n",
       "    <tr>\n",
       "      <th>4</th>\n",
       "      <td>2020/01/03</td>\n",
       "      <td>445.00</td>\n",
       "      <td>CHECK 143  REF. NO. 096162985</td>\n",
       "      <td>NaN</td>\n",
       "      <td>096162985</td>\n",
       "      <td>DEBIT</td>\n",
       "    </tr>\n",
       "  </tbody>\n",
       "</table>\n",
       "</div>"
      ],
      "text/plain": [
       "         date  amount                                        description  \\\n",
       "0  2020/01/02   70.00             Corporate ACH Hcclaimpmt Umr 264410520   \n",
       "1  2020/01/02   41.78  9969 Debit Card Purchase Doordash*White Castle...   \n",
       "2  2020/01/02  205.50    9969 Debit Card Purchase Innago  513-5430759 Oh   \n",
       "3  2020/01/02  178.65               PNC Merchant Discount   277295138998   \n",
       "4  2020/01/03  445.00                      CHECK 143  REF. NO. 096162985   \n",
       "\n",
       "  not_known1              not_known2    type  \n",
       "0        NaN     00019365911857239\\t  CREDIT  \n",
       "1        NaN  43293900068109969001\\t   DEBIT  \n",
       "2        NaN  70046900068109969002\\t   DEBIT  \n",
       "3        NaN     277295138998    OHO   DEBIT  \n",
       "4        NaN               096162985   DEBIT  "
      ]
     },
     "execution_count": 27,
     "metadata": {},
     "output_type": "execute_result"
    }
   ],
   "source": [
    "bank_data.head()"
   ]
  },
  {
   "cell_type": "code",
   "execution_count": 30,
   "id": "consecutive-memory",
   "metadata": {},
   "outputs": [
    {
     "data": {
      "text/plain": [
       "79"
      ]
     },
     "execution_count": 30,
     "metadata": {},
     "output_type": "execute_result"
    }
   ],
   "source": [
    "len(bank_data)"
   ]
  }
 ],
 "metadata": {
  "kernelspec": {
   "display_name": "Python 3",
   "language": "python",
   "name": "python3"
  },
  "language_info": {
   "codemirror_mode": {
    "name": "ipython",
    "version": 3
   },
   "file_extension": ".py",
   "mimetype": "text/x-python",
   "name": "python",
   "nbconvert_exporter": "python",
   "pygments_lexer": "ipython3",
   "version": "3.6.9"
  }
 },
 "nbformat": 4,
 "nbformat_minor": 5
}
